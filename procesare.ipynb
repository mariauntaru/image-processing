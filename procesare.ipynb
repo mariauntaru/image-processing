{
 "cells": [
  {
   "cell_type": "code",
   "execution_count": 1,
   "id": "ce2f3910",
   "metadata": {},
   "outputs": [],
   "source": [
    "# 4\n",
    "from PIL import Image\n",
    "\n",
    "images = [\"C:/Users/maria/Desktop/proiect_png/image_0.png\", \"C:/Users/maria/Desktop/proiect_png/image_1.png\", \"C:/Users/maria/Desktop/proiect_png/image_2.png\"]\n",
    "detected = [\"C:/Users/maria/Desktop/proiect_png/yolov5-master/runs/detect/exp/labels/image_0.txt\", \"C:/Users/maria/Desktop/proiect_png/yolov5-master/runs/detect/exp/labels/image_1.txt\", \"C:/Users/maria/Desktop/proiect_png/yolov5-master/runs/detect/exp/labels/image_2.txt\"]\n",
    "\n",
    "for i in range(len(images)):\n",
    "    image = Image.open(images[i])\n",
    "    with open(detected[i], \"r\") as f:\n",
    "        for line in f:\n",
    "                label, x, y, w, h = line.strip().split(\" \")\n",
    "                x, y, w, h = float(x), float(y), float(w), float(h)\n",
    "                x1 = int((x - w/2) * image.width)\n",
    "                y1 = int((y - h/2) * image.height)\n",
    "                x2 = int((x + w/2) * image.width)\n",
    "                y2 = int((y + h/2) * image.height)\n",
    "\n",
    "                objects = image.crop((x1, y1, x2, y2))\n",
    "                objects.save(\"C:/Users/maria/Desktop/proiect_png/truck_{}.png\".format(i), format=\"PNG\")"
   ]
  },
  {
   "cell_type": "code",
   "execution_count": 2,
   "id": "460392df",
   "metadata": {},
   "outputs": [],
   "source": [
    "# 5\n",
    "from PIL import Image\n",
    "import numpy as np\n",
    "import cv2\n",
    "color_lower = np.array([0, 70, 150])\n",
    "color_upper = np.array([10, 255, 255])\n",
    "\n",
    "images = [\"C:/Users/maria/Desktop/proiect_png/truck_0.png\", \"C:/Users/maria/Desktop/proiect_png/truck_1.png\", \"C:/Users/maria/Desktop/proiect_png/truck_2.png\"]\n",
    "\n",
    "for i in range(len(images)):\n",
    "    image = Image.open(images[i])\n",
    "    hsv_image = image.convert(\"HSV\")\n",
    "    hsv_array = np.array(hsv_image)\n",
    "    cv2.imwrite(f\"hsv_{i}.png\", hsv_array)\n",
    "    \n",
    "    mask = cv2.inRange(hsv_array, color_lower, color_upper)\n",
    "#    mask_image = Image.fromarray(mask)\n",
    "#    mask_image.save(f\"mask_{i}.png\", format=\"PNG\")\n",
    "            \n",
    "    masked_hsv_array = cv2.bitwise_and(hsv_array, hsv_array, mask=mask)\n",
    "    masked_hsv_image = Image.fromarray(masked_hsv_array, mode=\"HSV\")\n",
    "            \n",
    "    masked_rgb_image = masked_hsv_image.convert(\"RGB\")\n",
    "    masked_rgb_image.save(f\"coral_{i}.png\", format=\"PNG\")"
   ]
  },
  {
   "cell_type": "code",
   "execution_count": 7,
   "id": "6fa1a764",
   "metadata": {},
   "outputs": [],
   "source": [
    "# 6\n",
    "mask_coral = [\"coral_0.png\", \"coral_1.png\", \"coral_2.png\"]\n",
    "\n",
    "def transparent_fcn(image, alpha_channel):\n",
    "    output = np.zeros((image.shape[0], image.shape[1], 4))\n",
    "    output[:,:,0:3] = image.copy()\n",
    "    output[:,:,3] = alpha_channel\n",
    "    output = output.astype(np.uint8)\n",
    "    alpha_zero = np.where(alpha_channel == 0)\n",
    "    return output\n",
    "\n",
    "for i in range(len(mask_coral)):\n",
    "    image = cv2.imread(mask_coral[i])\n",
    "    out = transparent_fcn(image, image[:,:,2])\n",
    "    cv2.imwrite(f\"transparent_{i}.png\", out)"
   ]
  },
  {
   "cell_type": "code",
   "execution_count": null,
   "id": "752dba37",
   "metadata": {},
   "outputs": [],
   "source": []
  }
 ],
 "metadata": {
  "kernelspec": {
   "display_name": "Python 3 (ipykernel)",
   "language": "python",
   "name": "python3"
  },
  "language_info": {
   "codemirror_mode": {
    "name": "ipython",
    "version": 3
   },
   "file_extension": ".py",
   "mimetype": "text/x-python",
   "name": "python",
   "nbconvert_exporter": "python",
   "pygments_lexer": "ipython3",
   "version": "3.10.2"
  }
 },
 "nbformat": 4,
 "nbformat_minor": 5
}
